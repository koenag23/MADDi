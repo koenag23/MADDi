{
 "cells": [
  {
   "cell_type": "markdown",
   "id": "977404c9",
   "metadata": {},
   "source": [
    "This notebook splits the imaging data into training and testing such that there are no repeating patients in the test set and that the patients in the test set do not appear in training. "
   ]
  },
  {
   "cell_type": "code",
   "execution_count": null,
   "id": "fdbdb14f-2376-480f-bd77-4644d46bef39",
   "metadata": {},
   "outputs": [
    {
     "name": "stdout",
     "output_type": "stream",
     "text": [
      "0       1\n",
      "1       2\n",
      "2       2\n",
      "3       2\n",
      "4       2\n",
      "       ..\n",
      "2177    2\n",
      "2178    0\n",
      "2179    2\n",
      "2180    2\n",
      "2181    2\n",
      "Name: label, Length: 2182, dtype: object\n"
     ]
    }
   ],
   "source": [
    "import pandas as pd\n",
    "import random\n",
    "#reading in a dataframe that contains image arrays, patient IDs (\"subject\"), and diagnosis\n",
    "m2 = pd.read_pickle(\"mri_meta.pkl\")\n",
    "\n",
    "#cleaning patient IDs\n",
    "m2[\"subject\"] = m2[\"subject\"].str.replace(\"s\", \"S\").str.replace(\"\\n\", \"\")\n",
    "\n",
    "#reading in the overlap test set\n",
    "#ts = pd.read_csv(\"overlap_test_set.csv\")\n",
    "\n",
    "#removing ids from the overlap test set\n",
    "#m2 = m2[~m2[\"subject\"].isin(list(ts[\"subject\"].values))]"
   ]
  },
  {
   "cell_type": "code",
   "execution_count": 2,
   "id": "e456ba68-80d5-45eb-ba12-703912383a06",
   "metadata": {},
   "outputs": [
    {
     "data": {
      "text/plain": [
       "382"
      ]
     },
     "execution_count": 2,
     "metadata": {},
     "output_type": "execute_result"
    }
   ],
   "source": [
    "#there are 551 unique patients\n",
    "subjects = list(set(m2[\"subject\"].values))\n",
    "len(subjects)"
   ]
  },
  {
   "cell_type": "code",
   "execution_count": 3,
   "id": "e03e8f08-88a5-4642-a855-c2ab3de8fda7",
   "metadata": {},
   "outputs": [
    {
     "data": {
      "text/plain": [
       "218.20000000000002"
      ]
     },
     "execution_count": 3,
     "metadata": {},
     "output_type": "execute_result"
    }
   ],
   "source": [
    "0.1*len(m2) #10% for testing"
   ]
  },
  {
   "cell_type": "markdown",
   "id": "b8c6615f-3f5e-422a-9d6c-8bba87eea1c5",
   "metadata": {},
   "source": [
    "We have 3674 MRI scans from 551 patients (some patients repeated up to 16 times).\n",
    "We selected our testing set such that it has 367 unique MRIs (10% of training) shwon below. \n",
    "We do not allow for any repeating patients in the testing set. We only allowed repetition during training, and no patient was included in both training and testing sets."
   ]
  },
  {
   "cell_type": "code",
   "execution_count": 5,
   "id": "f02c4c2f-a9fc-45c6-b829-9f01486a1ede",
   "metadata": {},
   "outputs": [],
   "source": [
    "#selecting 367 patient IDs\n",
    "picked_ids = random.sample(subjects, 38) \n",
    "other_ids = list(set(subjects)-set(picked_ids))"
   ]
  },
  {
   "cell_type": "code",
   "execution_count": 6,
   "id": "c4e7d87c-21de-4001-bcd7-1c7df24ef03b",
   "metadata": {},
   "outputs": [],
   "source": [
    "#creating the test set out of the patient IDs\n",
    "test = pd.DataFrame(columns = [\"im1\", \"im2\", \"im3\", \"subject\", \"label\"]) \n",
    "s = [m2[m2[\"subject\"] == picked_ids[i]] for i in range(len(picked_ids))]\n",
    "test = pd.concat(s)\n",
    "\n",
    "test.to_csv(\"test.csv\")"
   ]
  },
  {
   "cell_type": "code",
   "execution_count": 7,
   "id": "0f3ad6c8-0485-40cb-92fe-7dcf9175eaee",
   "metadata": {},
   "outputs": [],
   "source": [
    "#creating the train set out of the patient IDs\n",
    "train = pd.DataFrame(columns = [\"im1\", \"im2\", \"im3\", \"subject\", \"label\"]) \n",
    "s = [m2[m2[\"subject\"] == other_ids[i]] for i in range(len(other_ids))]\n",
    "train = pd.concat(s)"
   ]
  },
  {
   "cell_type": "code",
   "execution_count": 8,
   "id": "053234ec-61e9-401a-801b-f889ffbf1091",
   "metadata": {},
   "outputs": [],
   "source": [
    "train[[\"im1\", \"im2\", \"im3\", \"subject\", \"visit\"]].to_pickle(\"img_train.pkl\")\n",
    "test[[\"im1\", \"im2\", \"im3\", \"subject\", \"visit\"]].to_pickle(\"img_test.pkl\")"
   ]
  },
  {
   "cell_type": "code",
   "execution_count": null,
   "id": "7a90b7a9-cc67-4ca4-9b11-54f4bbf7e5d6",
   "metadata": {},
   "outputs": [
    {
     "name": "stdout",
     "output_type": "stream",
     "text": [
      "797     0\n",
      "914     0\n",
      "1206    0\n",
      "1691    0\n",
      "2156    0\n",
      "       ..\n",
      "869     2\n",
      "1064    2\n",
      "1212    2\n",
      "1601    2\n",
      "1903    2\n",
      "Name: label, Length: 216, dtype: object\n"
     ]
    }
   ],
   "source": [
    "train[[\"label\"]].to_pickle(\"img_y_train.pkl\")\n",
    "test[[\"label\"]].to_pickle(\"img_y_test.pkl\")"
   ]
  }
 ],
 "metadata": {
  "kernelspec": {
   "display_name": "Python 3",
   "language": "python",
   "name": "python3"
  },
  "language_info": {
   "codemirror_mode": {
    "name": "ipython",
    "version": 3
   },
   "file_extension": ".py",
   "mimetype": "text/x-python",
   "name": "python",
   "nbconvert_exporter": "python",
   "pygments_lexer": "ipython3",
   "version": "3.10.12"
  }
 },
 "nbformat": 4,
 "nbformat_minor": 5
}
