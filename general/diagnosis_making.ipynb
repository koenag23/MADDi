{
 "cells": [
  {
   "cell_type": "markdown",
   "id": "6cfe1498-f0cb-4dea-9f09-f6d6a46e69d5",
   "metadata": {},
   "source": [
    "## Combbine all diagnosis"
   ]
  },
  {
   "cell_type": "markdown",
   "id": "bd11cf82",
   "metadata": {},
   "source": [
    "This method take diagnosis from images, clinical, and diagnosis sheet, and creates one ground truth (where all three agree) and one majority vote (where two agree) diagnosis files. "
   ]
  },
  {
   "cell_type": "code",
   "execution_count": 96,
   "id": "efe04c25-57d6-413d-941d-253dae962131",
   "metadata": {},
   "outputs": [],
   "source": [
    "import pandas as pd\n",
    "import math\n",
    "clinical = pd.read_csv(\"ADSP_PHC_COGN.csv\").rename(columns={\"PHASE\":\"Phase\"})\n",
    "#this file is the metadata file that one can get from downloading MRI images from ADNI\n",
    "img = pd.read_csv(\"metadata.csv\")\n",
    "comb = pd.read_csv(\"DXSUM_PDXCONV_ADNIALL.csv\").rename(columns={\"PHASE\":\"Phase\"})\n",
    "comb = comb[[\"RID\", \"PTID\" , \"Phase\"]]"
   ]
  },
  {
   "cell_type": "code",
   "execution_count": 97,
   "id": "fe74db0e-9f96-41e6-a694-aec0cbe1605f",
   "metadata": {},
   "outputs": [],
   "source": [
    "def read_diagnose(file_path: str = 'DXSUM_PDXCONV_ADNIALL.csv', verbose=False):\n",
    "    # Read diagnostic summary\n",
    "    diagnostic_summary = pd.read_csv(file_path, index_col='PTID').rename(columns={\"PHASE\":\"Phase\"})\n",
    "    diagnostic_summary = diagnostic_summary.sort_values(by=[\"update_stamp\"], ascending=True)\n",
    "    # Create dictionary\n",
    "    diagnostic_dict: dict = {}\n",
    "    for key, data in diagnostic_summary.iterrows():\n",
    "        # Iterate for each row of the document\n",
    "        phase: str = data['Phase']\n",
    "        diagnosis: float = -1.\n",
    "        if phase == \"ADNI1\":\n",
    "            diagnosis = data['DIAGNOSIS']\n",
    "        elif phase == \"ADNI2\" or phase == \"ADNIGO\":\n",
    "            dxchange = data['DIAGNOSIS']\n",
    "            if dxchange == 1 or dxchange == 7 or dxchange == 9:\n",
    "                diagnosis = 1.\n",
    "            if dxchange == 2 or dxchange == 4 or dxchange == 8:\n",
    "                diagnosis = 2.\n",
    "            if dxchange == 3 or dxchange == 5 or dxchange == 6:\n",
    "                diagnosis = 3.\n",
    "        elif phase == \"ADNI3\":\n",
    "            diagnosis = data['DIAGNOSIS']\n",
    "        elif phase == \"ADNI4\":\n",
    "            diagnosis = data['DIAGNOSIS']\n",
    "        else:\n",
    "            print(f\"ERROR: Not recognized study phase {phase}\")\n",
    "            exit(1)\n",
    "        # Update dictionary\n",
    "        if not math.isnan(diagnosis):\n",
    "            diagnostic_dict[key] = diagnosis\n",
    "    if verbose:\n",
    "        print_diagnostic_dict_summary(diagnostic_dict)\n",
    "    return diagnostic_dict\n",
    "\n",
    "\n",
    "def print_diagnostic_dict_summary(diagnostic_dict: dict):\n",
    "    print(f\"Number of diagnosed patients: {len(diagnostic_dict.items())}\\n\")\n",
    "    n_NL = 0\n",
    "    n_MCI = 0\n",
    "    n_AD = 0\n",
    "    for (key, data) in diagnostic_dict.items():\n",
    "        if data == 1:\n",
    "            n_NL += 1\n",
    "        if data == 2:\n",
    "            n_MCI += 1\n",
    "        if data == 3:\n",
    "            n_AD += 1\n",
    "    print(f\"Number of NL patients: {n_NL}\\n\"\n",
    "          f\"Number of MCI patients: {n_MCI}\\n\"\n",
    "          f\"Number of AD patients: {n_AD}\\n\")"
   ]
  },
  {
   "cell_type": "code",
   "execution_count": 98,
   "id": "3e0aa079-4001-469b-b683-4be139ab5686",
   "metadata": {},
   "outputs": [
    {
     "name": "stdout",
     "output_type": "stream",
     "text": [
      "Number of diagnosed patients: 3227\n",
      "\n",
      "Number of NL patients: 1225\n",
      "Number of MCI patients: 1069\n",
      "Number of AD patients: 933\n",
      "\n"
     ]
    }
   ],
   "source": [
    "d = read_diagnose()\n",
    "print_diagnostic_dict_summary(d)"
   ]
  },
  {
   "cell_type": "code",
   "execution_count": 99,
   "id": "192733b7-bdca-4fcc-9d83-4fc6dde34615",
   "metadata": {},
   "outputs": [
    {
     "name": "stdout",
     "output_type": "stream",
     "text": [
      "            index    0\n",
      "0      011_S_0002  2.0\n",
      "1      011_S_0003  3.0\n",
      "2      011_S_0005  1.0\n",
      "3      011_S_0008  2.0\n",
      "4      022_S_0007  3.0\n",
      "...           ...  ...\n",
      "3222  016_S_10324  1.0\n",
      "3223  114_S_10321  1.0\n",
      "3224  123_S_10292  2.0\n",
      "3225  035_S_10329  3.0\n",
      "3226  082_S_10219  3.0\n",
      "\n",
      "[3227 rows x 2 columns]\n"
     ]
    }
   ],
   "source": [
    "new = pd.DataFrame.from_dict(d, orient='index').reset_index()\n",
    "print(new)"
   ]
  },
  {
   "cell_type": "code",
   "execution_count": 100,
   "id": "7ba6c638-8525-49d5-9dbf-5615406fe8ac",
   "metadata": {},
   "outputs": [
    {
     "data": {
      "text/html": [
       "<div>\n",
       "<style scoped>\n",
       "    .dataframe tbody tr th:only-of-type {\n",
       "        vertical-align: middle;\n",
       "    }\n",
       "\n",
       "    .dataframe tbody tr th {\n",
       "        vertical-align: top;\n",
       "    }\n",
       "\n",
       "    .dataframe thead th {\n",
       "        text-align: right;\n",
       "    }\n",
       "</style>\n",
       "<table border=\"1\" class=\"dataframe\">\n",
       "  <thead>\n",
       "    <tr style=\"text-align: right;\">\n",
       "      <th></th>\n",
       "      <th>RID</th>\n",
       "      <th>SUBJECT_KEY</th>\n",
       "      <th>Phase</th>\n",
       "      <th>VISCODE</th>\n",
       "      <th>VISCODE2</th>\n",
       "      <th>EXAMDATE</th>\n",
       "      <th>PTGENDER</th>\n",
       "      <th>PTEDUCAT</th>\n",
       "      <th>PTETHCAT</th>\n",
       "      <th>PTRACCAT</th>\n",
       "      <th>AGE</th>\n",
       "      <th>DX</th>\n",
       "      <th>PHC_MEM</th>\n",
       "      <th>PHC_EXF</th>\n",
       "      <th>PHC_LAN</th>\n",
       "      <th>PHC_VSP</th>\n",
       "      <th>update_stamp</th>\n",
       "    </tr>\n",
       "  </thead>\n",
       "  <tbody>\n",
       "    <tr>\n",
       "      <th>0</th>\n",
       "      <td>2</td>\n",
       "      <td>ADNI_011_S_0002</td>\n",
       "      <td>ADNI2</td>\n",
       "      <td>v06</td>\n",
       "      <td>m72</td>\n",
       "      <td>2011-09-19</td>\n",
       "      <td>1</td>\n",
       "      <td>16.0</td>\n",
       "      <td>2</td>\n",
       "      <td>5</td>\n",
       "      <td>80.4682</td>\n",
       "      <td>1.0</td>\n",
       "      <td>0.090</td>\n",
       "      <td>0.002</td>\n",
       "      <td>0.460</td>\n",
       "      <td>0.264</td>\n",
       "      <td>2021-04-14 13:05:55.0</td>\n",
       "    </tr>\n",
       "    <tr>\n",
       "      <th>1</th>\n",
       "      <td>2</td>\n",
       "      <td>ADNI_011_S_0002</td>\n",
       "      <td>ADNI2</td>\n",
       "      <td>v21</td>\n",
       "      <td>m96</td>\n",
       "      <td>2013-09-09</td>\n",
       "      <td>1</td>\n",
       "      <td>16.0</td>\n",
       "      <td>2</td>\n",
       "      <td>5</td>\n",
       "      <td>82.4422</td>\n",
       "      <td>1.0</td>\n",
       "      <td>0.288</td>\n",
       "      <td>-0.495</td>\n",
       "      <td>0.460</td>\n",
       "      <td>NaN</td>\n",
       "      <td>2021-04-14 13:05:56.0</td>\n",
       "    </tr>\n",
       "    <tr>\n",
       "      <th>2</th>\n",
       "      <td>2</td>\n",
       "      <td>ADNI_011_S_0002</td>\n",
       "      <td>ADNI1</td>\n",
       "      <td>m36</td>\n",
       "      <td>m36</td>\n",
       "      <td>2008-08-27</td>\n",
       "      <td>1</td>\n",
       "      <td>16.0</td>\n",
       "      <td>2</td>\n",
       "      <td>5</td>\n",
       "      <td>77.4073</td>\n",
       "      <td>1.0</td>\n",
       "      <td>0.344</td>\n",
       "      <td>0.419</td>\n",
       "      <td>0.535</td>\n",
       "      <td>NaN</td>\n",
       "      <td>2021-04-14 13:05:56.0</td>\n",
       "    </tr>\n",
       "    <tr>\n",
       "      <th>3</th>\n",
       "      <td>2</td>\n",
       "      <td>ADNI_011_S_0002</td>\n",
       "      <td>ADNI2</td>\n",
       "      <td>v41</td>\n",
       "      <td>m120</td>\n",
       "      <td>2015-09-22</td>\n",
       "      <td>1</td>\n",
       "      <td>16.0</td>\n",
       "      <td>2</td>\n",
       "      <td>5</td>\n",
       "      <td>84.4764</td>\n",
       "      <td>1.0</td>\n",
       "      <td>0.382</td>\n",
       "      <td>-0.549</td>\n",
       "      <td>0.595</td>\n",
       "      <td>-0.333</td>\n",
       "      <td>2021-04-14 13:05:56.0</td>\n",
       "    </tr>\n",
       "    <tr>\n",
       "      <th>4</th>\n",
       "      <td>2</td>\n",
       "      <td>ADNI_011_S_0002</td>\n",
       "      <td>ADNIGO</td>\n",
       "      <td>m60</td>\n",
       "      <td>m60</td>\n",
       "      <td>2010-09-22</td>\n",
       "      <td>1</td>\n",
       "      <td>16.0</td>\n",
       "      <td>2</td>\n",
       "      <td>5</td>\n",
       "      <td>79.4771</td>\n",
       "      <td>1.0</td>\n",
       "      <td>0.101</td>\n",
       "      <td>0.066</td>\n",
       "      <td>0.620</td>\n",
       "      <td>0.264</td>\n",
       "      <td>2021-04-14 13:05:56.0</td>\n",
       "    </tr>\n",
       "  </tbody>\n",
       "</table>\n",
       "</div>"
      ],
      "text/plain": [
       "   RID      SUBJECT_KEY   Phase VISCODE VISCODE2    EXAMDATE  PTGENDER  \\\n",
       "0    2  ADNI_011_S_0002   ADNI2     v06      m72  2011-09-19         1   \n",
       "1    2  ADNI_011_S_0002   ADNI2     v21      m96  2013-09-09         1   \n",
       "2    2  ADNI_011_S_0002   ADNI1     m36      m36  2008-08-27         1   \n",
       "3    2  ADNI_011_S_0002   ADNI2     v41     m120  2015-09-22         1   \n",
       "4    2  ADNI_011_S_0002  ADNIGO     m60      m60  2010-09-22         1   \n",
       "\n",
       "   PTEDUCAT  PTETHCAT  PTRACCAT      AGE   DX  PHC_MEM  PHC_EXF  PHC_LAN  \\\n",
       "0      16.0         2         5  80.4682  1.0    0.090    0.002    0.460   \n",
       "1      16.0         2         5  82.4422  1.0    0.288   -0.495    0.460   \n",
       "2      16.0         2         5  77.4073  1.0    0.344    0.419    0.535   \n",
       "3      16.0         2         5  84.4764  1.0    0.382   -0.549    0.595   \n",
       "4      16.0         2         5  79.4771  1.0    0.101    0.066    0.620   \n",
       "\n",
       "   PHC_VSP           update_stamp  \n",
       "0    0.264  2021-04-14 13:05:55.0  \n",
       "1      NaN  2021-04-14 13:05:56.0  \n",
       "2      NaN  2021-04-14 13:05:56.0  \n",
       "3   -0.333  2021-04-14 13:05:56.0  \n",
       "4    0.264  2021-04-14 13:05:56.0  "
      ]
     },
     "execution_count": 100,
     "metadata": {},
     "output_type": "execute_result"
    }
   ],
   "source": [
    "clinical.head()"
   ]
  },
  {
   "cell_type": "code",
   "execution_count": 101,
   "id": "2f57f2f7-261a-49d0-b460-5ceeeeda188b",
   "metadata": {},
   "outputs": [],
   "source": [
    "clinical[\"year\"] = clinical[\"EXAMDATE\"].str[:4]"
   ]
  },
  {
   "cell_type": "code",
   "execution_count": 102,
   "id": "a5a64014-959a-4b4a-aa2f-d3ea1b024f49",
   "metadata": {},
   "outputs": [],
   "source": [
    "clinical[\"Subject\"] = clinical[\"SUBJECT_KEY\"].str.replace(\"ADNI_\", \"\").str.replace(\"s\", \"S\")"
   ]
  },
  {
   "cell_type": "code",
   "execution_count": 103,
   "id": "08f35069-5ed3-45c3-856a-e74a1630807c",
   "metadata": {},
   "outputs": [],
   "source": [
    "c = comb.merge(clinical, on = [\"RID\", \"Phase\"])"
   ]
  },
  {
   "cell_type": "code",
   "execution_count": 104,
   "id": "a79d5bf8-1c86-4da2-a348-4e2c40199f5b",
   "metadata": {},
   "outputs": [],
   "source": [
    "c = c.drop(\"Subject\", axis =1)"
   ]
  },
  {
   "cell_type": "code",
   "execution_count": 105,
   "id": "f700599f-3a5a-4fb0-b804-7cb1f0803121",
   "metadata": {},
   "outputs": [],
   "source": [
    "c = c.rename(columns = {\"PTID\":\"Subject\"})"
   ]
  },
  {
   "cell_type": "code",
   "execution_count": 106,
   "id": "614d4927-e2ae-4385-9ef6-1e4dbb09de2a",
   "metadata": {},
   "outputs": [],
   "source": [
    "img[\"year\"] = img[\"EXAMDATE\"].str[5:].str.replace(\"/\", \"\")"
   ]
  },
  {
   "cell_type": "code",
   "execution_count": 107,
   "id": "de9e6f5f-b1dc-4518-9607-83297bcea7d6",
   "metadata": {},
   "outputs": [],
   "source": [
    "img = img.replace([\"CN\", \"MCI\", \"AD\"], [ 0, 1, 2])"
   ]
  },
  {
   "cell_type": "code",
   "execution_count": 108,
   "id": "8843c4a2-b07b-4f55-80f2-d5b2b105f29c",
   "metadata": {},
   "outputs": [],
   "source": [
    "c[\"DX\"] = c[\"DX\"] -1"
   ]
  },
  {
   "cell_type": "code",
   "execution_count": 109,
   "id": "af4f8c6f-078f-403f-9d0b-42bd1a3ab4e4",
   "metadata": {},
   "outputs": [],
   "source": [
    "new[0] = new[0].astype(int) -1"
   ]
  },
  {
   "cell_type": "code",
   "execution_count": 110,
   "id": "b2754cac-d38e-4fb9-a4b6-0bc9e9e192b2",
   "metadata": {},
   "outputs": [],
   "source": [
    "new = new.rename(columns = {\"index\":\"Subject\", 0:\"GroupN\"})"
   ]
  },
  {
   "cell_type": "code",
   "execution_count": 111,
   "id": "b45b1247",
   "metadata": {},
   "outputs": [],
   "source": [
    "img = img.rename(columns = {\"PTID\":\"Subject\"})"
   ]
  },
  {
   "cell_type": "code",
   "execution_count": 112,
   "id": "46a3733a-dc9f-4720-b2bf-9bf7ff16b1ef",
   "metadata": {},
   "outputs": [
    {
     "name": "stdout",
     "output_type": "stream",
     "text": [
      "           Subject  GroupN  RID_x  Phase SUBJECT_KEY VISCODE_x VISCODE2_x  \\\n",
      "0       002_S_0295     0.0  295.0  ADNI1         NaN        bl         bl   \n",
      "1       002_S_0295     0.0  295.0  ADNI1         NaN        bl         bl   \n",
      "2       002_S_0295     0.0  295.0  ADNI1         NaN       m06        m06   \n",
      "3       002_S_0295     0.0  295.0  ADNI1         NaN       m06        m06   \n",
      "4       002_S_0295     0.0  295.0  ADNI1         NaN       m12        m12   \n",
      "...            ...     ...    ...    ...         ...       ...        ...   \n",
      "227139  941_S_7074     0.0    NaN    NaN         NaN       NaN        NaN   \n",
      "227140  941_S_7085     1.0    NaN    NaN         NaN       NaN        NaN   \n",
      "227141  941_S_7087     0.0    NaN    NaN         NaN       NaN        NaN   \n",
      "227142  941_S_7091     0.0    NaN    NaN         NaN       NaN        NaN   \n",
      "227143  941_S_7106     1.0    NaN    NaN         NaN       NaN        NaN   \n",
      "\n",
      "        EXAMDATE_x  PTGENDER  PTEDUCAT  ...  FLDSTRNGTH        ID  SITEID  \\\n",
      "0       2006-05-09       1.0      18.0  ...         2.0     120.0     1.0   \n",
      "1       2006-05-09       1.0      18.0  ...         2.0    2530.0     1.0   \n",
      "2       2006-11-02       1.0      18.0  ...         2.0     120.0     1.0   \n",
      "3       2006-11-02       1.0      18.0  ...         2.0    2530.0     1.0   \n",
      "4       2007-05-25       1.0      18.0  ...         2.0     120.0     1.0   \n",
      "...            ...       ...       ...  ...         ...       ...     ...   \n",
      "227139         NaN       NaN       NaN  ...         NaN     762.0   941.0   \n",
      "227140         NaN       NaN       NaN  ...         2.0  159768.0    59.0   \n",
      "227141         NaN       NaN       NaN  ...         2.0  158630.0    59.0   \n",
      "227142         NaN       NaN       NaN  ...         NaN       NaN     NaN   \n",
      "227143         NaN       NaN       NaN  ...         2.0  165315.0    59.0   \n",
      "\n",
      "          USERDATE   USERDATE2  DD_CRF_VERSION_LABEL  LANGUAGE_CODE  \\\n",
      "0       2011-06-02  2011-10-27                   NaN            NaN   \n",
      "1       2012-05-14         NaN                   NaN            NaN   \n",
      "2       2011-06-02  2011-10-27                   NaN            NaN   \n",
      "3       2012-05-14         NaN                   NaN            NaN   \n",
      "4       2011-06-02  2011-10-27                   NaN            NaN   \n",
      "...            ...         ...                   ...            ...   \n",
      "227139  2023-09-21  2023-09-21                    v1              e   \n",
      "227140  2022-07-01  2022-07-01                   NaN            NaN   \n",
      "227141  2022-06-16  2022-06-16                   NaN            NaN   \n",
      "227142         NaN         NaN                   NaN            NaN   \n",
      "227143  2022-09-09  2022-09-09                   NaN            NaN   \n",
      "\n",
      "        HAS_QC_ERROR         update_stamp_y year_y  \n",
      "0                NaN  2023-06-09 14:56:42.0  06-02  \n",
      "1                NaN  2023-06-09 14:56:42.0  05-10  \n",
      "2                NaN  2023-06-09 14:56:42.0  06-02  \n",
      "3                NaN  2023-06-09 14:56:42.0  05-10  \n",
      "4                NaN  2023-06-09 14:56:42.0  06-02  \n",
      "...              ...                    ...    ...  \n",
      "227139           0.0  2023-09-22 01:10:58.0  09-18  \n",
      "227140           NaN  2022-07-02 04:19:46.0  07-01  \n",
      "227141           NaN  2022-06-22 16:02:38.0  06-15  \n",
      "227142           NaN                    NaN    NaN  \n",
      "227143           NaN  2022-09-10 04:20:05.0  09-09  \n",
      "\n",
      "[227144 rows x 62 columns]\n",
      "Subject\n",
      "GroupN\n",
      "RID_x\n",
      "Phase\n",
      "SUBJECT_KEY\n",
      "VISCODE_x\n",
      "VISCODE2_x\n",
      "EXAMDATE_x\n",
      "PTGENDER\n",
      "PTEDUCAT\n",
      "PTETHCAT\n",
      "PTRACCAT\n",
      "AGE\n",
      "DX\n",
      "PHC_MEM\n",
      "PHC_EXF\n",
      "PHC_LAN\n",
      "PHC_VSP\n",
      "update_stamp_x\n",
      "year_x\n",
      "PHASE\n",
      "RID_y\n",
      "VISCODE_y\n",
      "VISCODE2_y\n",
      "FIELD_STRENGTH\n",
      "RECNO\n",
      "MMCONDCT\n",
      "MMREASON\n",
      "EXAMDATE_y\n",
      "MMSCOUT\n",
      "MMSMPRAGE\n",
      "MMRMPRAGE\n",
      "MMB1HEAD\n",
      "MMB1BODY\n",
      "MMECHO\n",
      "MMPHAN\n",
      "MMTRNSFR\n",
      "MMTRNDATE\n",
      "MMTRNDATEYR_DRVD\n",
      "MMARCHIVE\n",
      "MMLPDONE\n",
      "MMLPINTER\n",
      "SEDATIVE\n",
      "OTRDEV\n",
      "MOTION\n",
      "EYEKEEP\n",
      "EYEASK\n",
      "EYEKEEP4\n",
      "EYEASK4\n",
      "EYEKEEP6\n",
      "EYEASK6\n",
      "MALFUNC\n",
      "FLDSTRNGTH\n",
      "ID\n",
      "SITEID\n",
      "USERDATE\n",
      "USERDATE2\n",
      "DD_CRF_VERSION_LABEL\n",
      "LANGUAGE_CODE\n",
      "HAS_QC_ERROR\n",
      "update_stamp_y\n",
      "year_y\n"
     ]
    }
   ],
   "source": [
    "m = new.merge(c, on = \"Subject\", how = \"outer\").merge(img, on = \"Subject\", how = \"outer\")\n",
    "print(m)\n",
    "for i in m:\n",
    "    print(i)"
   ]
  },
  {
   "cell_type": "code",
   "execution_count": 113,
   "id": "3ca3eb93-d144-4df3-af48-7c8dc8341d19",
   "metadata": {},
   "outputs": [
    {
     "ename": "KeyError",
     "evalue": "\"['Group'] not in index\"",
     "output_type": "error",
     "traceback": [
      "\u001b[0;31m---------------------------------------------------------------------------\u001b[0m",
      "\u001b[0;31mKeyError\u001b[0m                                  Traceback (most recent call last)",
      "Cell \u001b[0;32mIn [113], line 1\u001b[0m\n\u001b[0;32m----> 1\u001b[0m m[[\u001b[38;5;124m\"\u001b[39m\u001b[38;5;124mGroupN\u001b[39m\u001b[38;5;124m\"\u001b[39m, \u001b[38;5;124m\"\u001b[39m\u001b[38;5;124mDX\u001b[39m\u001b[38;5;124m\"\u001b[39m, \u001b[38;5;124m\"\u001b[39m\u001b[38;5;124mGroup\u001b[39m\u001b[38;5;124m\"\u001b[39m]]\n",
      "File \u001b[0;32m/Library/Frameworks/Python.framework/Versions/3.9/lib/python3.9/site-packages/pandas/core/frame.py:4108\u001b[0m, in \u001b[0;36mDataFrame.__getitem__\u001b[0;34m(self, key)\u001b[0m\n\u001b[1;32m   4106\u001b[0m     \u001b[38;5;28;01mif\u001b[39;00m is_iterator(key):\n\u001b[1;32m   4107\u001b[0m         key \u001b[38;5;241m=\u001b[39m \u001b[38;5;28mlist\u001b[39m(key)\n\u001b[0;32m-> 4108\u001b[0m     indexer \u001b[38;5;241m=\u001b[39m \u001b[38;5;28;43mself\u001b[39;49m\u001b[38;5;241;43m.\u001b[39;49m\u001b[43mcolumns\u001b[49m\u001b[38;5;241;43m.\u001b[39;49m\u001b[43m_get_indexer_strict\u001b[49m\u001b[43m(\u001b[49m\u001b[43mkey\u001b[49m\u001b[43m,\u001b[49m\u001b[43m \u001b[49m\u001b[38;5;124;43m\"\u001b[39;49m\u001b[38;5;124;43mcolumns\u001b[39;49m\u001b[38;5;124;43m\"\u001b[39;49m\u001b[43m)\u001b[49m[\u001b[38;5;241m1\u001b[39m]\n\u001b[1;32m   4110\u001b[0m \u001b[38;5;66;03m# take() does not accept boolean indexers\u001b[39;00m\n\u001b[1;32m   4111\u001b[0m \u001b[38;5;28;01mif\u001b[39;00m \u001b[38;5;28mgetattr\u001b[39m(indexer, \u001b[38;5;124m\"\u001b[39m\u001b[38;5;124mdtype\u001b[39m\u001b[38;5;124m\"\u001b[39m, \u001b[38;5;28;01mNone\u001b[39;00m) \u001b[38;5;241m==\u001b[39m \u001b[38;5;28mbool\u001b[39m:\n",
      "File \u001b[0;32m/Library/Frameworks/Python.framework/Versions/3.9/lib/python3.9/site-packages/pandas/core/indexes/base.py:6200\u001b[0m, in \u001b[0;36mIndex._get_indexer_strict\u001b[0;34m(self, key, axis_name)\u001b[0m\n\u001b[1;32m   6197\u001b[0m \u001b[38;5;28;01melse\u001b[39;00m:\n\u001b[1;32m   6198\u001b[0m     keyarr, indexer, new_indexer \u001b[38;5;241m=\u001b[39m \u001b[38;5;28mself\u001b[39m\u001b[38;5;241m.\u001b[39m_reindex_non_unique(keyarr)\n\u001b[0;32m-> 6200\u001b[0m \u001b[38;5;28;43mself\u001b[39;49m\u001b[38;5;241;43m.\u001b[39;49m\u001b[43m_raise_if_missing\u001b[49m\u001b[43m(\u001b[49m\u001b[43mkeyarr\u001b[49m\u001b[43m,\u001b[49m\u001b[43m \u001b[49m\u001b[43mindexer\u001b[49m\u001b[43m,\u001b[49m\u001b[43m \u001b[49m\u001b[43maxis_name\u001b[49m\u001b[43m)\u001b[49m\n\u001b[1;32m   6202\u001b[0m keyarr \u001b[38;5;241m=\u001b[39m \u001b[38;5;28mself\u001b[39m\u001b[38;5;241m.\u001b[39mtake(indexer)\n\u001b[1;32m   6203\u001b[0m \u001b[38;5;28;01mif\u001b[39;00m \u001b[38;5;28misinstance\u001b[39m(key, Index):\n\u001b[1;32m   6204\u001b[0m     \u001b[38;5;66;03m# GH 42790 - Preserve name from an Index\u001b[39;00m\n",
      "File \u001b[0;32m/Library/Frameworks/Python.framework/Versions/3.9/lib/python3.9/site-packages/pandas/core/indexes/base.py:6252\u001b[0m, in \u001b[0;36mIndex._raise_if_missing\u001b[0;34m(self, key, indexer, axis_name)\u001b[0m\n\u001b[1;32m   6249\u001b[0m     \u001b[38;5;28;01mraise\u001b[39;00m \u001b[38;5;167;01mKeyError\u001b[39;00m(\u001b[38;5;124mf\u001b[39m\u001b[38;5;124m\"\u001b[39m\u001b[38;5;124mNone of [\u001b[39m\u001b[38;5;132;01m{\u001b[39;00mkey\u001b[38;5;132;01m}\u001b[39;00m\u001b[38;5;124m] are in the [\u001b[39m\u001b[38;5;132;01m{\u001b[39;00maxis_name\u001b[38;5;132;01m}\u001b[39;00m\u001b[38;5;124m]\u001b[39m\u001b[38;5;124m\"\u001b[39m)\n\u001b[1;32m   6251\u001b[0m not_found \u001b[38;5;241m=\u001b[39m \u001b[38;5;28mlist\u001b[39m(ensure_index(key)[missing_mask\u001b[38;5;241m.\u001b[39mnonzero()[\u001b[38;5;241m0\u001b[39m]]\u001b[38;5;241m.\u001b[39munique())\n\u001b[0;32m-> 6252\u001b[0m \u001b[38;5;28;01mraise\u001b[39;00m \u001b[38;5;167;01mKeyError\u001b[39;00m(\u001b[38;5;124mf\u001b[39m\u001b[38;5;124m\"\u001b[39m\u001b[38;5;132;01m{\u001b[39;00mnot_found\u001b[38;5;132;01m}\u001b[39;00m\u001b[38;5;124m not in index\u001b[39m\u001b[38;5;124m\"\u001b[39m)\n",
      "\u001b[0;31mKeyError\u001b[0m: \"['Group'] not in index\""
     ]
    }
   ],
   "source": [
    "m[[\"GroupN\", \"DX\", \"Group\"]]"
   ]
  },
  {
   "cell_type": "code",
   "execution_count": null,
   "id": "fb89d6f4-968c-4c3a-89a5-b2d94d71bc08",
   "metadata": {},
   "outputs": [],
   "source": [
    "m = m[[\"Subject\", \"GroupN\", \"Group\", \"DX\", \"Phase\"]].drop_duplicates()"
   ]
  },
  {
   "cell_type": "code",
   "execution_count": null,
   "id": "104fa42b-2599-4b7e-81e1-ec0a0ec1ef71",
   "metadata": {},
   "outputs": [],
   "source": [
    "m = m.dropna(subset = [\"GroupN\", \"Group\", \"DX\"], how=\"all\").drop_duplicates()\n",
    "m"
   ]
  },
  {
   "cell_type": "code",
   "execution_count": null,
   "id": "e1048f8c-3daf-48bf-939d-f25117afc729",
   "metadata": {},
   "outputs": [],
   "source": [
    "m.loc[m[\"DX\"].isna() & m[\"Group\"].isna(), \"Group\"] = m.loc[m[\"DX\"].isna() & m[\"Group\"].isna(), \"GroupN\"]\n",
    "m.loc[m[\"DX\"].isna() & m[\"Group\"].isna(), \"DX\"] = m.loc[m[\"DX\"].isna() & m[\"Group\"].isna(), \"GroupN\"]"
   ]
  },
  {
   "cell_type": "code",
   "execution_count": null,
   "id": "77ed996f-f006-4815-a9ca-c886a110548a",
   "metadata": {},
   "outputs": [],
   "source": [
    "m1 = m[m[\"GroupN\"] == m[\"Group\"]]\n",
    "m3 = m[m[\"GroupN\"] == m[\"DX\"]]\n",
    "m4 = m[m[\"Group\"] == m[\"DX\"]]\n",
    "m2 = m1[m1[\"Group\"] == m1[\"DX\"]]"
   ]
  },
  {
   "cell_type": "code",
   "execution_count": null,
   "id": "baf23308-67b6-43fa-ace9-9637ee8364ab",
   "metadata": {},
   "outputs": [],
   "source": [
    "m1 = m1[[\"Subject\", \"GroupN\", \"Group\", \"DX\", \"Phase\"]]\n",
    "m1"
   ]
  },
  {
   "cell_type": "code",
   "execution_count": null,
   "id": "88ba7e0c-ee41-4595-8a0f-3848d9fbeba7",
   "metadata": {},
   "outputs": [],
   "source": [
    "m1.loc[m1[\"DX\"].isna(), \"DX\"] = m1.loc[m1[\"DX\"].isna(), \"Group\"]"
   ]
  },
  {
   "cell_type": "code",
   "execution_count": null,
   "id": "82d8c823-35f5-41b9-b439-c0b5e13370c4",
   "metadata": {},
   "outputs": [],
   "source": [
    "m3 = m3[[\"Subject\", \"GroupN\", \"Group\", \"DX\", \"Phase\"]]\n",
    "m3"
   ]
  },
  {
   "cell_type": "code",
   "execution_count": null,
   "id": "7aabb579-0fc5-41ad-9cd4-ce820715977f",
   "metadata": {},
   "outputs": [],
   "source": [
    "m3.loc[m3[\"Group\"].isna(), \"Group\"] = m3.loc[m3[\"Group\"].isna(), \"GroupN\"]"
   ]
  },
  {
   "cell_type": "code",
   "execution_count": null,
   "id": "cc88ae06-9ead-4fc9-b23b-456d8e9e87bd",
   "metadata": {},
   "outputs": [],
   "source": [
    "m4 = m4[[\"Subject\", \"GroupN\", \"Group\", \"DX\", \"Phase\"]]\n",
    "m4"
   ]
  },
  {
   "cell_type": "code",
   "execution_count": null,
   "id": "ea3b75a3-e786-4d7f-be84-f12fc58dcd05",
   "metadata": {},
   "outputs": [],
   "source": [
    "m4[m4[\"GroupN\"] != m4[\"DX\"]]"
   ]
  },
  {
   "cell_type": "code",
   "execution_count": null,
   "id": "149e3dc5-aced-4e41-8cd0-54f1f1e25561",
   "metadata": {},
   "outputs": [],
   "source": [
    "m2[[\"Subject\", \"GroupN\", \"Group\", \"DX\", \"Phase\"]]"
   ]
  },
  {
   "cell_type": "code",
   "execution_count": null,
   "id": "c638c649-969b-416a-b2e4-ef7f31b67063",
   "metadata": {},
   "outputs": [],
   "source": [
    "m5 = pd.concat([m1,m3,m4])\n",
    "i = m5[m5[\"Group\"] == m5[\"GroupN\"]]\n",
    "i = i[i[\"Group\"] == i[\"DX\"]]"
   ]
  },
  {
   "cell_type": "code",
   "execution_count": null,
   "id": "341ade32-d572-4550-92c2-4e9edd8d5704",
   "metadata": {},
   "outputs": [],
   "source": [
    "i = i.drop_duplicates()"
   ]
  },
  {
   "cell_type": "code",
   "execution_count": null,
   "id": "cbd0ba2a-5bf0-4a52-93d7-19bf1c20be76",
   "metadata": {},
   "outputs": [],
   "source": [
    "i"
   ]
  },
  {
   "cell_type": "code",
   "execution_count": null,
   "id": "0168ece6-5027-4b1d-b978-ea8d77a0c324",
   "metadata": {},
   "outputs": [],
   "source": [
    "i[[\"Subject\", \"Group\", \"Phase\"]].to_csv(\"ground_truth.csv\")"
   ]
  },
  {
   "cell_type": "code",
   "execution_count": null,
   "id": "324bd3df-f316-4033-8727-0c64b49b0c58",
   "metadata": {},
   "outputs": [],
   "source": [
    "m.update(m5[~m5.index.duplicated(keep='first')])"
   ]
  },
  {
   "cell_type": "code",
   "execution_count": null,
   "id": "47ac4c83-59df-48da-89bd-c43ad5790b7e",
   "metadata": {},
   "outputs": [],
   "source": [
    "indexes = m.index"
   ]
  },
  {
   "cell_type": "code",
   "execution_count": null,
   "id": "921ae1b1-5b87-4120-ba61-72d44ca8e746",
   "metadata": {},
   "outputs": [],
   "source": [
    "#if none of the three diagnosis agree, then we set the value to -1\n",
    "m[\"GROUP\"] = -1"
   ]
  },
  {
   "cell_type": "code",
   "execution_count": null,
   "id": "56a53f45-886f-44a0-b352-31586f7de512",
   "metadata": {
    "tags": []
   },
   "outputs": [],
   "source": [
    "for i in indexes:\n",
    "    row = m.loc[i]\n",
    "    if (row[\"GroupN\"] == row[\"Group\"]):\n",
    "        val = row[\"GroupN\"]\n",
    "        \n",
    "        m.loc[i, \"GROUP\"] = val\n",
    "    elif (row[\"GroupN\"] == row[\"DX\"]):\n",
    "        val = row[\"GroupN\"]\n",
    "        m.loc[i, \"GROUP\"] = val\n",
    "        \n",
    "    elif (row[\"Group\"] == row[\"DX\"]):\n",
    "        val = row[\"Group\"]\n",
    "        m.loc[i, \"GROUP\"] = val\n",
    "        "
   ]
  },
  {
   "cell_type": "code",
   "execution_count": null,
   "id": "bbb55e5d-5d81-4b28-a5c7-b57a8c895eed",
   "metadata": {},
   "outputs": [],
   "source": [
    "m5 = m5[~m5.index.duplicated(keep='first')]\n",
    "m5"
   ]
  },
  {
   "cell_type": "code",
   "execution_count": null,
   "id": "3686a6e9-2ed0-410b-be9d-ac24a3ca230f",
   "metadata": {},
   "outputs": [],
   "source": [
    "m[m[\"GROUP\"] != -1]"
   ]
  },
  {
   "cell_type": "code",
   "execution_count": null,
   "id": "553d0140-5c90-4210-8b74-c922f96ebf35",
   "metadata": {},
   "outputs": [],
   "source": [
    "m[[\"Subject\", \"GroupN\", \"Group\", \"DX\", \"GROUP\", \"Phase\"]].to_csv(\"diagnosis_full.csv\")"
   ]
  }
 ],
 "metadata": {
  "kernelspec": {
   "display_name": "Python 3",
   "language": "python",
   "name": "python3"
  },
  "language_info": {
   "codemirror_mode": {
    "name": "ipython",
    "version": 3
   },
   "file_extension": ".py",
   "mimetype": "text/x-python",
   "name": "python",
   "nbconvert_exporter": "python",
   "pygments_lexer": "ipython3",
   "version": "3.9.13"
  }
 },
 "nbformat": 4,
 "nbformat_minor": 5
}
